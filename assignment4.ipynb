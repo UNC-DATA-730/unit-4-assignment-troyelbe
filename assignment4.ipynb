{
 "cells": [
  {
   "cell_type": "markdown",
   "id": "df0d234f-1e1a-4495-8208-e177e7f527aa",
   "metadata": {},
   "source": [
    "Complete the exercises below For **Assignment #4**.\n",
    "\n",
    "Use **Markdown** cells for the non-code answers."
   ]
  },
  {
   "cell_type": "markdown",
   "id": "67f720a0-2ead-44f5-bc11-8cbefda7b7d4",
   "metadata": {},
   "source": [
    "In this assignment we will work with the data underlying the *FiveThirtyEight* article [\"Higher Rates Of Hate Crimes Are Tied To Income Inequality\"](https://fivethirtyeight.com/features/higher-rates-of-hate-crimes-are-tied-to-income-inequality/)."
   ]
  },
  {
   "cell_type": "markdown",
   "id": "da3788bf-60c0-4b04-a09e-29bb08002d83",
   "metadata": {},
   "source": [
    "Load the `tidymodels`, `readr`, and `moderndive` packages in the cell below."
   ]
  },
  {
   "cell_type": "code",
   "execution_count": 4,
   "id": "c363d814-19a6-4173-899e-c54ada1860d2",
   "metadata": {
    "tags": []
   },
   "outputs": [],
   "source": [
    "\n",
    "library('tidymodels')\n",
    "library('readr')\n",
    "library('moderndive')\n"
   ]
  },
  {
   "cell_type": "markdown",
   "id": "c4064cbe-78bd-4549-8543-fd91ed775e6e",
   "metadata": {},
   "source": [
    "We can read the data from a **CSV file** at the following URL: [http://bit.ly/2ItxYg3](http://bit.ly/2ItxYg3).\n",
    "\n",
    "Use the `read_csv` function to read the data into our R session. Call the new table `hate_crimes`."
   ]
  },
  {
   "cell_type": "code",
   "execution_count": 12,
   "id": "94ce1201-dd72-4109-9a64-333b7286aac7",
   "metadata": {
    "tags": []
   },
   "outputs": [
    {
     "name": "stderr",
     "output_type": "stream",
     "text": [
      "\u001b[1mRows: \u001b[22m\u001b[34m51\u001b[39m \u001b[1mColumns: \u001b[22m\u001b[34m9\u001b[39m\n",
      "\u001b[36m──\u001b[39m \u001b[1mColumn specification\u001b[22m \u001b[36m────────────────────────────────────────────────────────\u001b[39m\n",
      "\u001b[1mDelimiter:\u001b[22m \",\"\n",
      "\u001b[31mchr\u001b[39m (5): state, median_house_inc, trump_support, unemployment, urbanization\n",
      "\u001b[32mdbl\u001b[39m (4): share_pop_metro, hs, hate_crimes, income\n",
      "\n",
      "\u001b[36mℹ\u001b[39m Use `spec()` to retrieve the full column specification for this data.\n",
      "\u001b[36mℹ\u001b[39m Specify the column types or set `show_col_types = FALSE` to quiet this message.\n"
     ]
    }
   ],
   "source": [
    "hate_crimes = read_csv('http://bit.ly/2ItxYg3') \n",
    "\n",
    "head()\n"
   ]
  },
  {
   "cell_type": "code",
   "execution_count": 15,
   "id": "62931a0b-ac79-4f9c-a9bd-e22a64015af2",
   "metadata": {
    "tags": []
   },
   "outputs": [
    {
     "data": {
      "text/html": [
       "<table class=\"dataframe\">\n",
       "<caption>A tibble: 6 × 9</caption>\n",
       "<thead>\n",
       "\t<tr><th scope=col>state</th><th scope=col>median_house_inc</th><th scope=col>share_pop_metro</th><th scope=col>hs</th><th scope=col>hate_crimes</th><th scope=col>trump_support</th><th scope=col>unemployment</th><th scope=col>urbanization</th><th scope=col>income</th></tr>\n",
       "\t<tr><th scope=col>&lt;chr&gt;</th><th scope=col>&lt;chr&gt;</th><th scope=col>&lt;dbl&gt;</th><th scope=col>&lt;dbl&gt;</th><th scope=col>&lt;dbl&gt;</th><th scope=col>&lt;chr&gt;</th><th scope=col>&lt;chr&gt;</th><th scope=col>&lt;chr&gt;</th><th scope=col>&lt;dbl&gt;</th></tr>\n",
       "</thead>\n",
       "<tbody>\n",
       "\t<tr><td>New Mexico  </td><td>low </td><td>0.69</td><td>83</td><td>0.295</td><td>low</td><td>high</td><td>low </td><td>46686</td></tr>\n",
       "\t<tr><td>Maine       </td><td>low </td><td>0.54</td><td>90</td><td>0.616</td><td>low</td><td>low </td><td>low </td><td>51710</td></tr>\n",
       "\t<tr><td>New York    </td><td>low </td><td>0.94</td><td>85</td><td>0.351</td><td>low</td><td>low </td><td>high</td><td>54310</td></tr>\n",
       "\t<tr><td>Illinois    </td><td>low </td><td>0.90</td><td>86</td><td>0.195</td><td>low</td><td>high</td><td>high</td><td>54916</td></tr>\n",
       "\t<tr><td>Delaware    </td><td>high</td><td>0.90</td><td>87</td><td>0.323</td><td>low</td><td>low </td><td>high</td><td>57522</td></tr>\n",
       "\t<tr><td>Rhode Island</td><td>high</td><td>1.00</td><td>85</td><td>0.095</td><td>low</td><td>high</td><td>high</td><td>58633</td></tr>\n",
       "</tbody>\n",
       "</table>\n"
      ],
      "text/latex": [
       "A tibble: 6 × 9\n",
       "\\begin{tabular}{lllllllll}\n",
       " state & median\\_house\\_inc & share\\_pop\\_metro & hs & hate\\_crimes & trump\\_support & unemployment & urbanization & income\\\\\n",
       " <chr> & <chr> & <dbl> & <dbl> & <dbl> & <chr> & <chr> & <chr> & <dbl>\\\\\n",
       "\\hline\n",
       "\t New Mexico   & low  & 0.69 & 83 & 0.295 & low & high & low  & 46686\\\\\n",
       "\t Maine        & low  & 0.54 & 90 & 0.616 & low & low  & low  & 51710\\\\\n",
       "\t New York     & low  & 0.94 & 85 & 0.351 & low & low  & high & 54310\\\\\n",
       "\t Illinois     & low  & 0.90 & 86 & 0.195 & low & high & high & 54916\\\\\n",
       "\t Delaware     & high & 0.90 & 87 & 0.323 & low & low  & high & 57522\\\\\n",
       "\t Rhode Island & high & 1.00 & 85 & 0.095 & low & high & high & 58633\\\\\n",
       "\\end{tabular}\n"
      ],
      "text/markdown": [
       "\n",
       "A tibble: 6 × 9\n",
       "\n",
       "| state &lt;chr&gt; | median_house_inc &lt;chr&gt; | share_pop_metro &lt;dbl&gt; | hs &lt;dbl&gt; | hate_crimes &lt;dbl&gt; | trump_support &lt;chr&gt; | unemployment &lt;chr&gt; | urbanization &lt;chr&gt; | income &lt;dbl&gt; |\n",
       "|---|---|---|---|---|---|---|---|---|\n",
       "| New Mexico   | low  | 0.69 | 83 | 0.295 | low | high | low  | 46686 |\n",
       "| Maine        | low  | 0.54 | 90 | 0.616 | low | low  | low  | 51710 |\n",
       "| New York     | low  | 0.94 | 85 | 0.351 | low | low  | high | 54310 |\n",
       "| Illinois     | low  | 0.90 | 86 | 0.195 | low | high | high | 54916 |\n",
       "| Delaware     | high | 0.90 | 87 | 0.323 | low | low  | high | 57522 |\n",
       "| Rhode Island | high | 1.00 | 85 | 0.095 | low | high | high | 58633 |\n",
       "\n"
      ],
      "text/plain": [
       "  state        median_house_inc share_pop_metro hs hate_crimes trump_support\n",
       "1 New Mexico   low              0.69            83 0.295       low          \n",
       "2 Maine        low              0.54            90 0.616       low          \n",
       "3 New York     low              0.94            85 0.351       low          \n",
       "4 Illinois     low              0.90            86 0.195       low          \n",
       "5 Delaware     high             0.90            87 0.323       low          \n",
       "6 Rhode Island high             1.00            85 0.095       low          \n",
       "  unemployment urbanization income\n",
       "1 high         low          46686 \n",
       "2 low          low          51710 \n",
       "3 low          high         54310 \n",
       "4 high         high         54916 \n",
       "5 low          high         57522 \n",
       "6 high         high         58633 "
      ]
     },
     "metadata": {},
     "output_type": "display_data"
    }
   ],
   "source": [
    "head(hate_crimes)"
   ]
  },
  {
   "cell_type": "markdown",
   "id": "f4806491-e256-4823-aa63-612157c25966",
   "metadata": {},
   "source": [
    "Next, let’s add the high-school degree variable into the mix by creating a scatterplot showing:\n",
    "\n",
    "- Income on the y-axis (this is the `income` variable)\n",
    "- Percent of adults 25 or older with a high school degree on the x-axis (this is the `hs` variable)\n",
    "- The points colored by level of urbanization in a region (this is the variable `urbanization`)\n",
    "\n",
    "\n",
    "**In addition, add a line of best fit (regression line) for each level of the variable urbanization (one for “low”, one for “high”).**\n",
    "\n",
    "*Add the regression lines to the plot using the `geom_parallel_slopes` function from the `moderndive` package. This function will draw the regression lines based on fitting a regression model with parallel slopes (i.e., with no interaction between `hs` and `urbanization`).*"
   ]
  },
  {
   "cell_type": "code",
   "execution_count": 24,
   "id": "0df52489-dc41-4d74-ba64-a93f1d5c7ae1",
   "metadata": {
    "tags": []
   },
   "outputs": [
    {
     "data": {
      "image/png": "[encoded data removed]",
      "text/plain": [
       "plot without title"
      ]
     },
     "metadata": {
      "image/png": {
       "height": 500,
       "width": 625
      }
     },
     "output_type": "display_data"
    }
   ],
   "source": [
    "\n",
    "p = ggplot(hate_crimes, aes(x = hs ,y = income, color = urbanization)) + geom_point(na.rm = T) + scale_color_brewer(palette = 'Set2') + moderndive::geom_parallel_slopes()\n",
    "\n",
    "\n",
    "\n",
    "p"
   ]
  },
  {
   "cell_type": "markdown",
   "id": "6e532f1d-fa73-402b-96e0-f104a4c02791",
   "metadata": {},
   "source": [
    "❓Which regression line (high urbanization or low urbanization) appears to have the larger intercept?\n",
    "\n",
    "**Answer:**"
   ]
  },
  {
   "cell_type": "markdown",
   "id": "bae44585-af50-4286-b544-97fb7992603c",
   "metadata": {},
   "source": [
    "\n",
    "high appears to have the larger interception\n"
   ]
  },
  {
   "cell_type": "markdown",
   "id": "e8c51941-740b-4bba-975f-12083a90dda0",
   "metadata": {},
   "source": [
    "Now let’s create a second scatterplot using the same variables, but this time draw the regression lines using `geom_smooth(method = \"lm\")`, which will allow for separate, non-parallel slopes for each urbanization group. \n",
    "\n",
    "**Code your scatter plot in the cell below.**"
   ]
  },
  {
   "cell_type": "code",
   "execution_count": 33,
   "id": "fbdf3299-5151-4963-addb-6089506a9b1d",
   "metadata": {
    "tags": []
   },
   "outputs": [
    {
     "name": "stderr",
     "output_type": "stream",
     "text": [
      "\u001b[1m\u001b[22m`geom_smooth()` using formula = 'y ~ x'\n",
      "Warning message in qt((1 - level)/2, df):\n",
      "“NaNs produced”\n",
      "Warning message in max(ids, na.rm = TRUE):\n",
      "“no non-missing arguments to max; returning -Inf”\n"
     ]
    },
    {
     "data": {
      "image/png": "[encoded data removed]",
      "text/plain": [
       "plot without title"
      ]
     },
     "metadata": {
      "image/png": {
       "height": 500,
       "width": 625
      }
     },
     "output_type": "display_data"
    }
   ],
   "source": [
    "x = ggplot (hate_crimes, aes(x = hs, y = income, color = urbanization)) + geom_point(na.rm = T) + scale_color_brewer(palette = 'Set2') + geom_smooth(method = 'lm')\n",
    "\n",
    "\n",
    "\n",
    "\n",
    "\n",
    "\n",
    "x"
   ]
  },
  {
   "cell_type": "markdown",
   "id": "1a8b4ef0-c250-4f50-8354-75075608b95c",
   "metadata": {},
   "source": [
    "❓Based on visually comparing the two models shown above, do you think it would be best to run a “parallel slopes” model (i.e. a model that estimates one shared slope for the two levels of urbanization), or a more complex “interaction model” (i.e. a model that estimates a separate slope for the two levels of urbanization)?\n",
    "\n",
    "**Answer:**"
   ]
  },
  {
   "cell_type": "markdown",
   "id": "d42e4d47-be84-402b-9ef6-ccf107e6940a",
   "metadata": {},
   "source": [
    "parallel slopes  model since the slopes are similar for both high and low\n",
    "\n"
   ]
  },
  {
   "cell_type": "markdown",
   "id": "58b774c5-d4d1-4473-be77-4a1271fa4ca2",
   "metadata": {},
   "source": [
    "Fit the following two regression models that examine the relationship between household `income` (as response variable), and high-school education (`hs`) and `urbanization` as explanatory variables:\n",
    "\n",
    "1. A parallel slopes model (i.e., no interaction between `hs` and `urbanization`). ❗️Save the data recipe and model under the variables `ps_rec` and `ps_mod`, respectively. \n",
    "1. A non-parallel slopes model (i.e., allow `hs` and `urbanization` to interact in your model). ❗️Save the data recipe and model under the variable: `nps_rec` and `nps_mod`, respectively.\n",
    "\n",
    "**Code you your models in the cell below.**"
   ]
  },
  {
   "cell_type": "code",
   "execution_count": 54,
   "id": "30523b47-a9af-4462-9c47-8bab30e76cc6",
   "metadata": {
    "tags": []
   },
   "outputs": [
    {
     "data": {
      "text/plain": [
       "parsnip model object\n",
       "\n",
       "\n",
       "Call:\n",
       "stats::lm(formula = income ~ ., data = data)\n",
       "\n",
       "Coefficients:\n",
       "     (Intercept)                hs  urbanization_low  \n",
       "         -1896.3             679.2           -7656.7  \n"
      ]
     },
     "metadata": {},
     "output_type": "display_data"
    }
   ],
   "source": [
    "# parallel slopes model\n",
    "\n",
    "ps_rec = recipe(income ~ hs + urbanization, data = hate_crimes) |> \n",
    "    step_naomit(everything()) |>   # remove missing values\n",
    "    step_dummy(urbanization) |>    # dummy encode the urbanization variable\n",
    "    prep()                         # run the recipe on the training data provided\n",
    "\n",
    "mod = linear_reg() |> set_engine('lm')\n",
    "\n",
    "ps_mod = mod |> fit(income ~ ., juice(ps_rec))\n",
    "\n",
    "ps_mod"
   ]
  },
  {
   "cell_type": "code",
   "execution_count": 55,
   "id": "5f00c972-f677-4315-8ef8-a85c6e18be95",
   "metadata": {
    "tags": []
   },
   "outputs": [
    {
     "data": {
      "text/plain": [
       "parsnip model object\n",
       "\n",
       "\n",
       "Call:\n",
       "stats::lm(formula = income ~ ., data = data)\n",
       "\n",
       "Coefficients:\n",
       "          (Intercept)                     hs       urbanization_low  \n",
       "              27525.5                  336.1               -40409.7  \n",
       "urbanization_low_x_hs  \n",
       "                381.6  \n"
      ]
     },
     "metadata": {},
     "output_type": "display_data"
    }
   ],
   "source": [
    "# non-parallel slopes model\n",
    "\n",
    "# ❗️ you can use most of the code above, just add step_interact(~ starts_with(\"urbanization\"):hs) to the recipe and\n",
    "#    switch the variable names...\n",
    "\n",
    "nps_rec = recipe(income ~ hs + urbanization, data = hate_crimes) |> \n",
    "    step_naomit(everything()) |>   # remove missing values\n",
    "    step_dummy(urbanization) |> # dummy encode the urbanization variable\n",
    "    step_interact(~ starts_with(\"urbanization\"):hs) |>\n",
    "    prep()                         # run the recipe on the training data provided\n",
    "\n",
    "mod = linear_reg() |> set_engine('lm')\n",
    "\n",
    "nps_mod = mod |> fit(income ~ ., juice(nps_rec))\n",
    "\n",
    "nps_mod\n",
    "\n"
   ]
  },
  {
   "cell_type": "markdown",
   "id": "868f615c-c5b3-4246-8460-1cd85c06c43a",
   "metadata": {},
   "source": [
    "The following code creates a table of your model predictions over the training data. Calculate the [coefficient of determination](https://en.wikipedia.org/wiki/Coefficient_of_determination) (R<sup>2</sup>) for each model:\n",
    "\n",
    "```r\n",
    "rbind(\n",
    "    augment(ps_mod, juice(ps_rec)) |> select(income, .pred, .resid) |> mutate(model = \"parallel_slopes\"),\n",
    "    augment(nps_mod, juice(nps_rec)) |> select(income, .pred, .resid) |> mutate(model = \"interaction\")\n",
    ")\n",
    "```\n",
    "\n",
    "1. Group rows by the `model` variable (use the `group_by` function).\n",
    "1. Calculate the variance of income over the variance of your predictions for each model using the \"grouped\" data from the step above (use `summarize(r_squared = var(.pred) / var(income))`)."
   ]
  },
  {
   "cell_type": "code",
   "execution_count": 56,
   "id": "962ac82c-48a1-424e-90a7-f6fdc71d52fb",
   "metadata": {
    "tags": []
   },
   "outputs": [],
   "source": [
    "mod_pred = rbind(\n",
    "    augment(ps_mod, juice(ps_rec)) |> select(income, .pred, .resid) |> mutate(model = \"parallel_slopes\"),\n",
    "    augment(nps_mod, juice(nps_rec)) |> select(income, .pred, .resid) |> mutate(model = \"interaction\")\n",
    ")\n",
    "\n",
    "\n",
    "\n",
    "gpd_data = mod_pred |> group_by(model) |> summarize(r_squared = var(.pred) / var(income))\n"
   ]
  },
  {
   "cell_type": "code",
   "execution_count": 58,
   "id": "b98a220b-114f-414a-a5e5-df6546b7c2ae",
   "metadata": {
    "tags": []
   },
   "outputs": [
    {
     "data": {
      "text/html": [
       "<table class=\"dataframe\">\n",
       "<caption>A tibble: 2 × 2</caption>\n",
       "<thead>\n",
       "\t<tr><th scope=col>model</th><th scope=col>r_squared</th></tr>\n",
       "\t<tr><th scope=col>&lt;chr&gt;</th><th scope=col>&lt;dbl&gt;</th></tr>\n",
       "</thead>\n",
       "<tbody>\n",
       "\t<tr><td>interaction    </td><td>0.8664356</td></tr>\n",
       "\t<tr><td>parallel_slopes</td><td>0.8625859</td></tr>\n",
       "</tbody>\n",
       "</table>\n"
      ],
      "text/latex": [
       "A tibble: 2 × 2\n",
       "\\begin{tabular}{ll}\n",
       " model & r\\_squared\\\\\n",
       " <chr> & <dbl>\\\\\n",
       "\\hline\n",
       "\t interaction     & 0.8664356\\\\\n",
       "\t parallel\\_slopes & 0.8625859\\\\\n",
       "\\end{tabular}\n"
      ],
      "text/markdown": [
       "\n",
       "A tibble: 2 × 2\n",
       "\n",
       "| model &lt;chr&gt; | r_squared &lt;dbl&gt; |\n",
       "|---|---|\n",
       "| interaction     | 0.8664356 |\n",
       "| parallel_slopes | 0.8625859 |\n",
       "\n"
      ],
      "text/plain": [
       "  model           r_squared\n",
       "1 interaction     0.8664356\n",
       "2 parallel_slopes 0.8625859"
      ]
     },
     "metadata": {},
     "output_type": "display_data"
    }
   ],
   "source": [
    "head(gpd_data)"
   ]
  },
  {
   "cell_type": "markdown",
   "id": "840b7b72-84b9-4577-ac88-13a82f90f808",
   "metadata": {},
   "source": [
    "🎶 Note: you can also use the `glance` function with a model as input to find the coefficient of determination."
   ]
  },
  {
   "cell_type": "code",
   "execution_count": 59,
   "id": "68c3db16-e926-46d6-8647-4277560d2e25",
   "metadata": {
    "tags": []
   },
   "outputs": [
    {
     "data": {
      "text/html": [
       "<table class=\"dataframe\">\n",
       "<caption>A tibble: 1 × 12</caption>\n",
       "<thead>\n",
       "\t<tr><th scope=col>r.squared</th><th scope=col>adj.r.squared</th><th scope=col>sigma</th><th scope=col>statistic</th><th scope=col>p.value</th><th scope=col>df</th><th scope=col>logLik</th><th scope=col>AIC</th><th scope=col>BIC</th><th scope=col>deviance</th><th scope=col>df.residual</th><th scope=col>nobs</th></tr>\n",
       "\t<tr><th scope=col>&lt;dbl&gt;</th><th scope=col>&lt;dbl&gt;</th><th scope=col>&lt;dbl&gt;</th><th scope=col>&lt;dbl&gt;</th><th scope=col>&lt;dbl&gt;</th><th scope=col>&lt;dbl&gt;</th><th scope=col>&lt;dbl&gt;</th><th scope=col>&lt;dbl&gt;</th><th scope=col>&lt;dbl&gt;</th><th scope=col>&lt;dbl&gt;</th><th scope=col>&lt;int&gt;</th><th scope=col>&lt;int&gt;</th></tr>\n",
       "</thead>\n",
       "<tbody>\n",
       "\t<tr><td>0.8664356</td><td>0.6660891</td><td>2499.291</td><td>4.324685</td><td>0.1934998</td><td>3</td><td>-52.16037</td><td>114.3207</td><td>113.2795</td><td>12492907</td><td>2</td><td>6</td></tr>\n",
       "</tbody>\n",
       "</table>\n"
      ],
      "text/latex": [
       "A tibble: 1 × 12\n",
       "\\begin{tabular}{llllllllllll}\n",
       " r.squared & adj.r.squared & sigma & statistic & p.value & df & logLik & AIC & BIC & deviance & df.residual & nobs\\\\\n",
       " <dbl> & <dbl> & <dbl> & <dbl> & <dbl> & <dbl> & <dbl> & <dbl> & <dbl> & <dbl> & <int> & <int>\\\\\n",
       "\\hline\n",
       "\t 0.8664356 & 0.6660891 & 2499.291 & 4.324685 & 0.1934998 & 3 & -52.16037 & 114.3207 & 113.2795 & 12492907 & 2 & 6\\\\\n",
       "\\end{tabular}\n"
      ],
      "text/markdown": [
       "\n",
       "A tibble: 1 × 12\n",
       "\n",
       "| r.squared &lt;dbl&gt; | adj.r.squared &lt;dbl&gt; | sigma &lt;dbl&gt; | statistic &lt;dbl&gt; | p.value &lt;dbl&gt; | df &lt;dbl&gt; | logLik &lt;dbl&gt; | AIC &lt;dbl&gt; | BIC &lt;dbl&gt; | deviance &lt;dbl&gt; | df.residual &lt;int&gt; | nobs &lt;int&gt; |\n",
       "|---|---|---|---|---|---|---|---|---|---|---|---|\n",
       "| 0.8664356 | 0.6660891 | 2499.291 | 4.324685 | 0.1934998 | 3 | -52.16037 | 114.3207 | 113.2795 | 12492907 | 2 | 6 |\n",
       "\n"
      ],
      "text/plain": [
       "      r.squared adj.r.squared sigma    statistic p.value   df logLik   \n",
       "value 0.8664356 0.6660891     2499.291 4.324685  0.1934998 3  -52.16037\n",
       "      AIC      BIC      deviance df.residual nobs\n",
       "value 114.3207 113.2795 12492907 2           6   "
      ]
     },
     "metadata": {},
     "output_type": "display_data"
    }
   ],
   "source": [
    "glance(nps_mod)"
   ]
  },
  {
   "cell_type": "code",
   "execution_count": 60,
   "id": "6838f025-21b8-4c0e-8a30-96ef1a027eb0",
   "metadata": {
    "tags": []
   },
   "outputs": [
    {
     "data": {
      "text/html": [
       "<table class=\"dataframe\">\n",
       "<caption>A tibble: 1 × 12</caption>\n",
       "<thead>\n",
       "\t<tr><th scope=col>r.squared</th><th scope=col>adj.r.squared</th><th scope=col>sigma</th><th scope=col>statistic</th><th scope=col>p.value</th><th scope=col>df</th><th scope=col>logLik</th><th scope=col>AIC</th><th scope=col>BIC</th><th scope=col>deviance</th><th scope=col>df.residual</th><th scope=col>nobs</th></tr>\n",
       "\t<tr><th scope=col>&lt;dbl&gt;</th><th scope=col>&lt;dbl&gt;</th><th scope=col>&lt;dbl&gt;</th><th scope=col>&lt;dbl&gt;</th><th scope=col>&lt;dbl&gt;</th><th scope=col>&lt;dbl&gt;</th><th scope=col>&lt;dbl&gt;</th><th scope=col>&lt;dbl&gt;</th><th scope=col>&lt;dbl&gt;</th><th scope=col>&lt;dbl&gt;</th><th scope=col>&lt;int&gt;</th><th scope=col>&lt;int&gt;</th></tr>\n",
       "</thead>\n",
       "<tbody>\n",
       "\t<tr><td>0.8625859</td><td>0.7709765</td><td>2069.862</td><td>9.415912</td><td>0.05093858</td><td>2</td><td>-52.24561</td><td>112.4912</td><td>111.6583</td><td>12852989</td><td>3</td><td>6</td></tr>\n",
       "</tbody>\n",
       "</table>\n"
      ],
      "text/latex": [
       "A tibble: 1 × 12\n",
       "\\begin{tabular}{llllllllllll}\n",
       " r.squared & adj.r.squared & sigma & statistic & p.value & df & logLik & AIC & BIC & deviance & df.residual & nobs\\\\\n",
       " <dbl> & <dbl> & <dbl> & <dbl> & <dbl> & <dbl> & <dbl> & <dbl> & <dbl> & <dbl> & <int> & <int>\\\\\n",
       "\\hline\n",
       "\t 0.8625859 & 0.7709765 & 2069.862 & 9.415912 & 0.05093858 & 2 & -52.24561 & 112.4912 & 111.6583 & 12852989 & 3 & 6\\\\\n",
       "\\end{tabular}\n"
      ],
      "text/markdown": [
       "\n",
       "A tibble: 1 × 12\n",
       "\n",
       "| r.squared &lt;dbl&gt; | adj.r.squared &lt;dbl&gt; | sigma &lt;dbl&gt; | statistic &lt;dbl&gt; | p.value &lt;dbl&gt; | df &lt;dbl&gt; | logLik &lt;dbl&gt; | AIC &lt;dbl&gt; | BIC &lt;dbl&gt; | deviance &lt;dbl&gt; | df.residual &lt;int&gt; | nobs &lt;int&gt; |\n",
       "|---|---|---|---|---|---|---|---|---|---|---|---|\n",
       "| 0.8625859 | 0.7709765 | 2069.862 | 9.415912 | 0.05093858 | 2 | -52.24561 | 112.4912 | 111.6583 | 12852989 | 3 | 6 |\n",
       "\n"
      ],
      "text/plain": [
       "      r.squared adj.r.squared sigma    statistic p.value    df logLik   \n",
       "value 0.8625859 0.7709765     2069.862 9.415912  0.05093858 2  -52.24561\n",
       "      AIC      BIC      deviance df.residual nobs\n",
       "value 112.4912 111.6583 12852989 3           6   "
      ]
     },
     "metadata": {},
     "output_type": "display_data"
    }
   ],
   "source": [
    "glance(ps_mod)"
   ]
  },
  {
   "cell_type": "markdown",
   "id": "ba34c756-4110-41a5-889c-102a51920a41",
   "metadata": {},
   "source": [
    "❓Compare the adjusted proportion of variance accounted for in each model. Based on this comparison, which model do you prefer? Why? \n",
    "\n",
    "**Answer:**"
   ]
  },
  {
   "cell_type": "code",
   "execution_count": null,
   "id": "a249f3ee-3f67-4cfe-858c-ae5d3134035f",
   "metadata": {},
   "outputs": [],
   "source": [
    "I would use the parallel slope model since it has the highest adjusted r squared\n",
    "\n"
   ]
  },
  {
   "cell_type": "markdown",
   "id": "3b8b4c84-898f-4914-b06b-2eeb99f0d234",
   "metadata": {},
   "source": [
    "❓Using your preferred model, based on your regression model parameters (and the data visualizations), is `income` greater in states that have lower or higher levels of `urbanization`? By how much?\n",
    "\n",
    "**Hint:** use the `tidy` function with your model as input to access the parameters in a nice table.\n",
    "\n",
    "**Answer:**"
   ]
  },
  {
   "cell_type": "code",
   "execution_count": 66,
   "id": "c094d0a2-2030-45a8-9643-9c6eac642fb3",
   "metadata": {
    "tags": []
   },
   "outputs": [
    {
     "name": "stdout",
     "output_type": "stream",
     "text": [
      "\u001b[90m# A tibble: 3 × 5\u001b[39m\n",
      "  term             estimate std.error statistic p.value\n",
      "  \u001b[3m\u001b[90m<chr>\u001b[39m\u001b[23m               \u001b[3m\u001b[90m<dbl>\u001b[39m\u001b[23m     \u001b[3m\u001b[90m<dbl>\u001b[39m\u001b[23m     \u001b[3m\u001b[90m<dbl>\u001b[39m\u001b[23m   \u001b[3m\u001b[90m<dbl>\u001b[39m\u001b[23m\n",
      "\u001b[90m1\u001b[39m (Intercept)        -\u001b[31m\u001b[4m1\u001b[24m89\u001b[39m\u001b[31m6\u001b[39m\u001b[31m.\u001b[39m    \u001b[4m3\u001b[24m\u001b[4m4\u001b[24m017.   -\u001b[31m0\u001b[39m\u001b[31m.\u001b[39m\u001b[31m0\u001b[39m\u001b[31m55\u001b[4m7\u001b[24m\u001b[39m  0.959 \n",
      "\u001b[90m2\u001b[39m hs                   679.      397.    1.71    0.185 \n",
      "\u001b[90m3\u001b[39m urbanization_low   -\u001b[31m\u001b[4m7\u001b[24m65\u001b[39m\u001b[31m7\u001b[39m\u001b[31m.\u001b[39m     \u001b[4m1\u001b[24m817.   -\u001b[31m4\u001b[39m\u001b[31m.\u001b[39m\u001b[31m21\u001b[39m    0.024\u001b[4m4\u001b[24m\n"
     ]
    }
   ],
   "source": [
    "\n",
    "model_summary <- tidy(ps_mod)\n",
    "\n",
    "print(model_summary)"
   ]
  },
  {
   "cell_type": "markdown",
   "id": "c8e1e0a6-e53b-4ec8-9b33-b97a26f3c952",
   "metadata": {},
   "source": [
    "income is greater in states that have higher levels of urbanization "
   ]
  },
  {
   "cell_type": "markdown",
   "id": "bf4c7cba-28b1-41e4-800b-275d0895ceff",
   "metadata": {},
   "source": [
    "❓For every one percentage point increase of high-school educated adults in a state (`hs` variable), what is the associated average increase in `income`?\n",
    "\n",
    "**Answer:**"
   ]
  },
  {
   "cell_type": "code",
   "execution_count": 67,
   "id": "1f5e5a71-930e-477d-98b8-a3f5e47df91c",
   "metadata": {
    "tags": []
   },
   "outputs": [
    {
     "name": "stdout",
     "output_type": "stream",
     "text": [
      "\u001b[90m# A tibble: 4 × 5\u001b[39m\n",
      "  term                  estimate std.error statistic p.value\n",
      "  \u001b[3m\u001b[90m<chr>\u001b[39m\u001b[23m                    \u001b[3m\u001b[90m<dbl>\u001b[39m\u001b[23m     \u001b[3m\u001b[90m<dbl>\u001b[39m\u001b[23m     \u001b[3m\u001b[90m<dbl>\u001b[39m\u001b[23m   \u001b[3m\u001b[90m<dbl>\u001b[39m\u001b[23m\n",
      "\u001b[90m1\u001b[39m (Intercept)             \u001b[4m2\u001b[24m\u001b[4m7\u001b[24m525.   \u001b[4m1\u001b[24m\u001b[4m2\u001b[24m\u001b[4m9\u001b[24m242.     0.213   0.851\n",
      "\u001b[90m2\u001b[39m hs                        336.     \u001b[4m1\u001b[24m507.     0.223   0.844\n",
      "\u001b[90m3\u001b[39m urbanization_low       -\u001b[31m\u001b[4m4\u001b[24m\u001b[4m0\u001b[24m4\u001b[39m\u001b[31m10\u001b[39m\u001b[31m.\u001b[39m   \u001b[4m1\u001b[24m\u001b[4m3\u001b[24m\u001b[4m6\u001b[24m434.    -\u001b[31m0\u001b[39m\u001b[31m.\u001b[39m\u001b[31m296\u001b[39m   0.795\n",
      "\u001b[90m4\u001b[39m urbanization_low_x_hs     382.     \u001b[4m1\u001b[24m589.     0.240   0.833\n"
     ]
    }
   ],
   "source": [
    "model_summary <- tidy(nps_mod)\n",
    "\n",
    "print(model_summary)\n",
    "\n"
   ]
  },
  {
   "cell_type": "markdown",
   "id": "1ae74770-1457-4e03-9c58-bc41bcc10d26",
   "metadata": {},
   "source": [
    "$336"
   ]
  },
  {
   "cell_type": "code",
   "execution_count": null,
   "id": "77e0479d-3c29-426d-a448-8c3a429a5726",
   "metadata": {},
   "outputs": [],
   "source": []
  },
  {
   "cell_type": "code",
   "execution_count": null,
   "id": "bb4606cd-b523-4220-8324-c3100d8dce98",
   "metadata": {},
   "outputs": [],
   "source": []
  }
 ],
 "metadata": {
  "kernelspec": {
   "display_name": ".conda-data730:R",
   "language": "R",
   "name": "conda-env-.conda-data730-r"
  },
  "language_info": {
   "codemirror_mode": "r",
   "file_extension": ".r",
   "mimetype": "text/x-r-source",
   "name": "R",
   "pygments_lexer": "r",
   "version": "4.3.3"
  }
 },
 "nbformat": 4,
 "nbformat_minor": 5
}
